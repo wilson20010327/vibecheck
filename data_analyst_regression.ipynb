{
  "cells": [
    {
      "cell_type": "code",
      "execution_count": 2,
      "metadata": {
        "colab": {
          "base_uri": "https://localhost:8080/"
        },
        "id": "CKMQDa7mRTpd",
        "outputId": "1749d8ec-425c-486a-ebb2-b5c215a5a9da"
      },
      "outputs": [],
      "source": [
        "import numpy as np\n",
        "import pandas as pd\n",
        "from numpy.fft import fft\n",
        "from matplotlib import pyplot as plt\n",
        "import math\n",
        "import warnings,os\n",
        "import glob\n",
        "warnings.filterwarnings('ignore')"
      ]
    },
    {
      "cell_type": "code",
      "execution_count": 32,
      "metadata": {
        "id": "X2jrH6tWY7P6"
      },
      "outputs": [],
      "source": [
        "path=\"./data/10.30material_classification/\"\n",
        "folder_list = os.listdir(path)"
      ]
    },
    {
      "cell_type": "code",
      "execution_count": 33,
      "metadata": {
        "colab": {
          "base_uri": "https://localhost:8080/"
        },
        "id": "ITgFR9kJWnXG",
        "outputId": "cfb6c2ef-638d-40a6-f8b1-d0c443292969"
      },
      "outputs": [
        {
          "data": {
            "text/plain": [
              "['alu',\n",
              " 'woo',\n",
              " 'bra',\n",
              " 'printed_pla',\n",
              " 'pla',\n",
              " 'bra_hollow_thin',\n",
              " 'alu_hollow_thick',\n",
              " 'printed_resin',\n",
              " 'alu_hollow_thin']"
            ]
          },
          "execution_count": 33,
          "metadata": {},
          "output_type": "execute_result"
        }
      ],
      "source": [
        "folder_list"
      ]
    },
    {
      "cell_type": "markdown",
      "metadata": {
        "id": "slpjWSP3mqf0"
      },
      "source": [
        "Import dataset"
      ]
    },
    {
      "cell_type": "code",
      "execution_count": 35,
      "metadata": {
        "colab": {
          "base_uri": "https://localhost:8080/"
        },
        "id": "rVp1T1ahSX9Y",
        "outputId": "0dd5505d-d8a1-4a98-ff43-a26970a12d30"
      },
      "outputs": [
        {
          "name": "stdout",
          "output_type": "stream",
          "text": [
            "finishalu\n",
            "finishwoo\n",
            "finishbra\n",
            "finishprinted_pla\n",
            "finishpla\n",
            "finishbra_hollow_thin\n",
            "finishalu_hollow_thick\n",
            "finishprinted_resin\n",
            "finishalu_hollow_thin\n"
          ]
        }
      ],
      "source": [
        "file_size=10\n",
        "def get_data(raw_data):\n",
        "  data=raw_data.drop([\"msg\",\"time(second)\"],axis=1)\n",
        "  rot_data = data\n",
        "  return rot_data\n",
        "# concate all data to single file\n",
        "for name_idx in range(len(folder_list)):\n",
        "  df=[]\n",
        "  for i in range(1,file_size+1):\n",
        "    material=path+folder_list[name_idx]\n",
        "    filename=\"/output_\"+str(i)+\".csv\"\n",
        "    temp=pd.read_csv(material+filename)\n",
        "    temp=get_data(temp) # remove the unuse columns\n",
        "    row_data=[]\n",
        "    for row in range (len(temp)):\n",
        "      row_data.append(temp.iloc[row].values)\n",
        "    row_data=np.array(row_data).reshape((1,-1)).squeeze(axis=0)\n",
        "    df.append(row_data)\n",
        "  df=pd.DataFrame(df)\n",
        "  material=path+folder_list[name_idx]\n",
        "  df.transpose().to_csv(material+\"/all_result.csv\")\n",
        "  print(\"finish\"+folder_list[name_idx])"
      ]
    },
    {
      "cell_type": "code",
      "execution_count": 5,
      "metadata": {
        "id": "BhPiUnTfgTNF"
      },
      "outputs": [],
      "source": [
        "import random\n",
        "def print_original_plot(name,path,outlier_delete=False):\n",
        "  material=path+name\n",
        "  filename=\"/all_result.csv\"\n",
        "  df=pd.read_csv(material+filename)\n",
        "  df=df.dropna(axis=0) # drop the unconsistent data long\n",
        "  df=df.drop(list(df)[0],axis=1)\n",
        "  # print(df.describe())\n",
        "  if outlier_delete:\n",
        "    randomlist = random.sample(range(0, len(df)), 1000)\n",
        "    for i in randomlist:\n",
        "      mean = df.iloc[i].mean()\n",
        "      std = df.iloc[i].std()\n",
        "\n",
        "      z_scores = (df.iloc[i] - mean) / std\n",
        "\n",
        "      mask = np.abs(z_scores) > 5\n",
        "      # print(mask)\n",
        "      drop_col=[]\n",
        "      for i in range(len(mask)):\n",
        "        if mask[i]:\n",
        "          drop_col.append(df.columns[i])\n",
        "      df.drop(drop_col,axis=1, inplace=True)\n",
        "  \n",
        "  # print(df.shape)\n",
        "  # # print(df)\n",
        "  # df.plot(kind='line',alpha=0.5, figsize=(10, 4),title=name+' orignal data plot',legend=False)\n",
        "  # df.plot(kind='hist',alpha=0.5, figsize=(10, 10),title=name+\" orignal data plot\",legend=False)\n",
        "  return df"
      ]
    },
    {
      "cell_type": "code",
      "execution_count": 35,
      "metadata": {
        "id": "vfLDTztxZEcQ"
      },
      "outputs": [],
      "source": [
        "path=\"./data/10.23/internal_structure_cylinders/cylinder_2/\"\n",
        "folder_list = os.listdir(path)"
      ]
    },
    {
      "cell_type": "code",
      "execution_count": 36,
      "metadata": {
        "colab": {
          "base_uri": "https://localhost:8080/"
        },
        "id": "Dm3tNcMs5Rw2",
        "outputId": "6de7f5ce-1b1a-48a0-ddb2-c72e7592ee2d"
      },
      "outputs": [
        {
          "name": "stdout",
          "output_type": "stream",
          "text": [
            "p7 p7\n",
            "p11 p11\n",
            "p13 p13\n",
            "p8 p8\n",
            "p3 p3\n",
            "p18 p18\n",
            "p12 p12\n",
            "p6 p6\n",
            "p14 p14\n",
            "p9 p9\n",
            "p10 p10\n",
            "p4 p4\n",
            "p17 p17\n",
            "p5 p5\n",
            "p2 p2\n",
            "p19 p19\n",
            "p1 p1\n",
            "p15 p15\n",
            "p16 p16\n"
          ]
        }
      ],
      "source": [
        "df_all=pd.DataFrame()\n",
        "labellist=['p'+str(i) for i in range(1,20)]\n",
        "\n",
        "for name in folder_list:\n",
        "  df_temp=print_original_plot(name=name,path=path)\n",
        "  label=\"\"\n",
        "  for i in labellist:\n",
        "    if i == name :\n",
        "      label=i\n",
        "      break\n",
        "  print(label,name)\n",
        "  df_temp.loc['label']=[labellist.index(label)*10 for _ in list(df_temp)]\n",
        "  df_all = pd.concat([df_all, df_temp], axis=1)\n"
      ]
    },
    {
      "cell_type": "code",
      "execution_count": 339,
      "metadata": {
        "colab": {
          "base_uri": "https://localhost:8080/"
        },
        "id": "5iCuVfLn6hO2",
        "outputId": "1ae4649d-f4e8-4d88-cdb6-c82535d55227"
      },
      "outputs": [
        {
          "name": "stdout",
          "output_type": "stream",
          "text": [
            "middle brass_middle\n",
            "center printpla_center\n",
            "center brass_center\n",
            "center alu_hollow_thick_center\n",
            "edge alu_hollow_thin_edge\n"
          ]
        },
        {
          "ename": "KeyboardInterrupt",
          "evalue": "",
          "output_type": "error",
          "traceback": [
            "\u001b[0;31m---------------------------------------------------------------------------\u001b[0m",
            "\u001b[0;31mKeyboardInterrupt\u001b[0m                         Traceback (most recent call last)",
            "Cell \u001b[0;32mIn[339], line 5\u001b[0m\n\u001b[1;32m      2\u001b[0m folder_list_2 \u001b[38;5;241m=\u001b[39m os\u001b[38;5;241m.\u001b[39mlistdir(path_2)\n\u001b[1;32m      3\u001b[0m \u001b[38;5;28;01mfor\u001b[39;00m name \u001b[38;5;129;01min\u001b[39;00m folder_list_2:\n\u001b[1;32m      4\u001b[0m   \u001b[38;5;66;03m# if(name!=\"p1\"):continue\u001b[39;00m\n\u001b[0;32m----> 5\u001b[0m   df_temp\u001b[38;5;241m=\u001b[39m\u001b[43mprint_original_plot\u001b[49m\u001b[43m(\u001b[49m\u001b[43mname\u001b[49m\u001b[38;5;241;43m=\u001b[39;49m\u001b[43mname\u001b[49m\u001b[43m,\u001b[49m\u001b[43mpath\u001b[49m\u001b[38;5;241;43m=\u001b[39;49m\u001b[43mpath_2\u001b[49m\u001b[43m)\u001b[49m\n\u001b[1;32m      6\u001b[0m   label\u001b[38;5;241m=\u001b[39m\u001b[38;5;124m\"\u001b[39m\u001b[38;5;124m2\u001b[39m\u001b[38;5;124m\"\u001b[39m\n\u001b[1;32m      7\u001b[0m   \u001b[38;5;28;01mfor\u001b[39;00m i \u001b[38;5;129;01min\u001b[39;00m labellist:\n",
            "Cell \u001b[0;32mIn[239], line 5\u001b[0m, in \u001b[0;36mprint_original_plot\u001b[0;34m(name, path, outlier_delete)\u001b[0m\n\u001b[1;32m      3\u001b[0m material\u001b[38;5;241m=\u001b[39mpath\u001b[38;5;241m+\u001b[39mname\n\u001b[1;32m      4\u001b[0m filename\u001b[38;5;241m=\u001b[39m\u001b[38;5;124m\"\u001b[39m\u001b[38;5;124m/all_result.csv\u001b[39m\u001b[38;5;124m\"\u001b[39m\n\u001b[0;32m----> 5\u001b[0m df\u001b[38;5;241m=\u001b[39m\u001b[43mpd\u001b[49m\u001b[38;5;241;43m.\u001b[39;49m\u001b[43mread_csv\u001b[49m\u001b[43m(\u001b[49m\u001b[43mmaterial\u001b[49m\u001b[38;5;241;43m+\u001b[39;49m\u001b[43mfilename\u001b[49m\u001b[43m)\u001b[49m\n\u001b[1;32m      6\u001b[0m df\u001b[38;5;241m=\u001b[39mdf\u001b[38;5;241m.\u001b[39mdropna(axis\u001b[38;5;241m=\u001b[39m\u001b[38;5;241m0\u001b[39m) \u001b[38;5;66;03m# drop the unconsistent data long\u001b[39;00m\n\u001b[1;32m      7\u001b[0m df\u001b[38;5;241m=\u001b[39mdf\u001b[38;5;241m.\u001b[39mdrop(\u001b[38;5;28mlist\u001b[39m(df)[\u001b[38;5;241m0\u001b[39m],axis\u001b[38;5;241m=\u001b[39m\u001b[38;5;241m1\u001b[39m)\n",
            "File \u001b[0;32m~/miniconda3/lib/python3.12/site-packages/pandas/io/parsers/readers.py:1026\u001b[0m, in \u001b[0;36mread_csv\u001b[0;34m(filepath_or_buffer, sep, delimiter, header, names, index_col, usecols, dtype, engine, converters, true_values, false_values, skipinitialspace, skiprows, skipfooter, nrows, na_values, keep_default_na, na_filter, verbose, skip_blank_lines, parse_dates, infer_datetime_format, keep_date_col, date_parser, date_format, dayfirst, cache_dates, iterator, chunksize, compression, thousands, decimal, lineterminator, quotechar, quoting, doublequote, escapechar, comment, encoding, encoding_errors, dialect, on_bad_lines, delim_whitespace, low_memory, memory_map, float_precision, storage_options, dtype_backend)\u001b[0m\n\u001b[1;32m   1013\u001b[0m kwds_defaults \u001b[38;5;241m=\u001b[39m _refine_defaults_read(\n\u001b[1;32m   1014\u001b[0m     dialect,\n\u001b[1;32m   1015\u001b[0m     delimiter,\n\u001b[0;32m   (...)\u001b[0m\n\u001b[1;32m   1022\u001b[0m     dtype_backend\u001b[38;5;241m=\u001b[39mdtype_backend,\n\u001b[1;32m   1023\u001b[0m )\n\u001b[1;32m   1024\u001b[0m kwds\u001b[38;5;241m.\u001b[39mupdate(kwds_defaults)\n\u001b[0;32m-> 1026\u001b[0m \u001b[38;5;28;01mreturn\u001b[39;00m \u001b[43m_read\u001b[49m\u001b[43m(\u001b[49m\u001b[43mfilepath_or_buffer\u001b[49m\u001b[43m,\u001b[49m\u001b[43m \u001b[49m\u001b[43mkwds\u001b[49m\u001b[43m)\u001b[49m\n",
            "File \u001b[0;32m~/miniconda3/lib/python3.12/site-packages/pandas/io/parsers/readers.py:626\u001b[0m, in \u001b[0;36m_read\u001b[0;34m(filepath_or_buffer, kwds)\u001b[0m\n\u001b[1;32m    623\u001b[0m     \u001b[38;5;28;01mreturn\u001b[39;00m parser\n\u001b[1;32m    625\u001b[0m \u001b[38;5;28;01mwith\u001b[39;00m parser:\n\u001b[0;32m--> 626\u001b[0m     \u001b[38;5;28;01mreturn\u001b[39;00m \u001b[43mparser\u001b[49m\u001b[38;5;241;43m.\u001b[39;49m\u001b[43mread\u001b[49m\u001b[43m(\u001b[49m\u001b[43mnrows\u001b[49m\u001b[43m)\u001b[49m\n",
            "File \u001b[0;32m~/miniconda3/lib/python3.12/site-packages/pandas/io/parsers/readers.py:1923\u001b[0m, in \u001b[0;36mTextFileReader.read\u001b[0;34m(self, nrows)\u001b[0m\n\u001b[1;32m   1916\u001b[0m nrows \u001b[38;5;241m=\u001b[39m validate_integer(\u001b[38;5;124m\"\u001b[39m\u001b[38;5;124mnrows\u001b[39m\u001b[38;5;124m\"\u001b[39m, nrows)\n\u001b[1;32m   1917\u001b[0m \u001b[38;5;28;01mtry\u001b[39;00m:\n\u001b[1;32m   1918\u001b[0m     \u001b[38;5;66;03m# error: \"ParserBase\" has no attribute \"read\"\u001b[39;00m\n\u001b[1;32m   1919\u001b[0m     (\n\u001b[1;32m   1920\u001b[0m         index,\n\u001b[1;32m   1921\u001b[0m         columns,\n\u001b[1;32m   1922\u001b[0m         col_dict,\n\u001b[0;32m-> 1923\u001b[0m     ) \u001b[38;5;241m=\u001b[39m \u001b[38;5;28;43mself\u001b[39;49m\u001b[38;5;241;43m.\u001b[39;49m\u001b[43m_engine\u001b[49m\u001b[38;5;241;43m.\u001b[39;49m\u001b[43mread\u001b[49m\u001b[43m(\u001b[49m\u001b[43m  \u001b[49m\u001b[38;5;66;43;03m# type: ignore[attr-defined]\u001b[39;49;00m\n\u001b[1;32m   1924\u001b[0m \u001b[43m        \u001b[49m\u001b[43mnrows\u001b[49m\n\u001b[1;32m   1925\u001b[0m \u001b[43m    \u001b[49m\u001b[43m)\u001b[49m\n\u001b[1;32m   1926\u001b[0m \u001b[38;5;28;01mexcept\u001b[39;00m \u001b[38;5;167;01mException\u001b[39;00m:\n\u001b[1;32m   1927\u001b[0m     \u001b[38;5;28mself\u001b[39m\u001b[38;5;241m.\u001b[39mclose()\n",
            "File \u001b[0;32m~/miniconda3/lib/python3.12/site-packages/pandas/io/parsers/c_parser_wrapper.py:234\u001b[0m, in \u001b[0;36mCParserWrapper.read\u001b[0;34m(self, nrows)\u001b[0m\n\u001b[1;32m    232\u001b[0m \u001b[38;5;28;01mtry\u001b[39;00m:\n\u001b[1;32m    233\u001b[0m     \u001b[38;5;28;01mif\u001b[39;00m \u001b[38;5;28mself\u001b[39m\u001b[38;5;241m.\u001b[39mlow_memory:\n\u001b[0;32m--> 234\u001b[0m         chunks \u001b[38;5;241m=\u001b[39m \u001b[38;5;28;43mself\u001b[39;49m\u001b[38;5;241;43m.\u001b[39;49m\u001b[43m_reader\u001b[49m\u001b[38;5;241;43m.\u001b[39;49m\u001b[43mread_low_memory\u001b[49m\u001b[43m(\u001b[49m\u001b[43mnrows\u001b[49m\u001b[43m)\u001b[49m\n\u001b[1;32m    235\u001b[0m         \u001b[38;5;66;03m# destructive to chunks\u001b[39;00m\n\u001b[1;32m    236\u001b[0m         data \u001b[38;5;241m=\u001b[39m _concatenate_chunks(chunks)\n",
            "File \u001b[0;32mparsers.pyx:838\u001b[0m, in \u001b[0;36mpandas._libs.parsers.TextReader.read_low_memory\u001b[0;34m()\u001b[0m\n",
            "File \u001b[0;32mparsers.pyx:905\u001b[0m, in \u001b[0;36mpandas._libs.parsers.TextReader._read_rows\u001b[0;34m()\u001b[0m\n",
            "File \u001b[0;32mparsers.pyx:874\u001b[0m, in \u001b[0;36mpandas._libs.parsers.TextReader._tokenize_rows\u001b[0;34m()\u001b[0m\n",
            "File \u001b[0;32mparsers.pyx:891\u001b[0m, in \u001b[0;36mpandas._libs.parsers.TextReader._check_tokenize_status\u001b[0;34m()\u001b[0m\n",
            "File \u001b[0;32mparsers.pyx:2053\u001b[0m, in \u001b[0;36mpandas._libs.parsers.raise_parser_error\u001b[0;34m()\u001b[0m\n",
            "File \u001b[0;32m<frozen codecs>:331\u001b[0m, in \u001b[0;36mgetstate\u001b[0;34m(self)\u001b[0m\n",
            "\u001b[0;31mKeyboardInterrupt\u001b[0m: "
          ]
        }
      ],
      "source": [
        "path_2=\"./data/10.14-withUR5/\"\n",
        "folder_list_2 = os.listdir(path_2)\n",
        "for name in folder_list_2:\n",
        "  # if(name!=\"p1\"):continue\n",
        "  df_temp=print_original_plot(name=name,path=path_2)\n",
        "  label=\"2\"\n",
        "  for i in labellist:\n",
        "    if i in name :\n",
        "      label=i\n",
        "      break\n",
        "  print(label,name)\n",
        "  df_temp.loc['label']=[labellist.index(label) for _ in list(df_temp)]\n",
        "  df_all = pd.concat([df_all, df_temp], axis=1)"
      ]
    },
    {
      "cell_type": "code",
      "execution_count": 37,
      "metadata": {
        "id": "0AvJ-nWKhnqY"
      },
      "outputs": [],
      "source": [
        "df_all=df_all.dropna(axis=0)\n",
        "df_all = pd.concat([df_all.iloc[:42000], df_all.iloc[[-1]]], axis=0)"
      ]
    },
    {
      "cell_type": "code",
      "execution_count": 38,
      "metadata": {},
      "outputs": [],
      "source": [
        "def fft_self(df):\n",
        "    data_rows = df.iloc[:-1, :]  # All rows except the last\n",
        "    label_row = df.iloc[-1, :]    # Last row (label)\n",
        "\n",
        "    # Apply FFT on each column except the last row\n",
        "    fft_result = data_rows.apply(lambda col: np.abs(np.fft.fft(col)), axis=0)\n",
        "\n",
        "    # Append the label row to the FFT result\n",
        "    fft_result.loc['label'] = label_row\n",
        "    return fft_result"
      ]
    },
    {
      "cell_type": "code",
      "execution_count": 39,
      "metadata": {
        "colab": {
          "base_uri": "https://localhost:8080/",
          "height": 443
        },
        "id": "R-1XGYqtcck_",
        "outputId": "bcd74b02-987f-46dd-bb75-15d2d5c53873"
      },
      "outputs": [],
      "source": [
        "df_all=fft_self(df_all)"
      ]
    },
    {
      "cell_type": "code",
      "execution_count": 30,
      "metadata": {},
      "outputs": [
        {
          "data": {
            "text/html": [
              "<div>\n",
              "<style scoped>\n",
              "    .dataframe tbody tr th:only-of-type {\n",
              "        vertical-align: middle;\n",
              "    }\n",
              "\n",
              "    .dataframe tbody tr th {\n",
              "        vertical-align: top;\n",
              "    }\n",
              "\n",
              "    .dataframe thead th {\n",
              "        text-align: right;\n",
              "    }\n",
              "</style>\n",
              "<table border=\"1\" class=\"dataframe\">\n",
              "  <thead>\n",
              "    <tr style=\"text-align: right;\">\n",
              "      <th></th>\n",
              "      <th>0</th>\n",
              "      <th>1</th>\n",
              "      <th>2</th>\n",
              "      <th>3</th>\n",
              "      <th>4</th>\n",
              "      <th>5</th>\n",
              "      <th>6</th>\n",
              "      <th>7</th>\n",
              "      <th>8</th>\n",
              "      <th>9</th>\n",
              "      <th>...</th>\n",
              "      <th>90</th>\n",
              "      <th>91</th>\n",
              "      <th>92</th>\n",
              "      <th>93</th>\n",
              "      <th>94</th>\n",
              "      <th>95</th>\n",
              "      <th>96</th>\n",
              "      <th>97</th>\n",
              "      <th>98</th>\n",
              "      <th>99</th>\n",
              "    </tr>\n",
              "  </thead>\n",
              "  <tbody>\n",
              "    <tr>\n",
              "      <th>0</th>\n",
              "      <td>21991.000000</td>\n",
              "      <td>21733.000000</td>\n",
              "      <td>23587.000000</td>\n",
              "      <td>19524.000000</td>\n",
              "      <td>23075.000000</td>\n",
              "      <td>24558.000000</td>\n",
              "      <td>23559.000000</td>\n",
              "      <td>20983.000000</td>\n",
              "      <td>25130.000000</td>\n",
              "      <td>19994.000000</td>\n",
              "      <td>...</td>\n",
              "      <td>17398.000000</td>\n",
              "      <td>19812.000000</td>\n",
              "      <td>22389.000000</td>\n",
              "      <td>20085.000000</td>\n",
              "      <td>20131.000000</td>\n",
              "      <td>20667.000000</td>\n",
              "      <td>17946.000000</td>\n",
              "      <td>20490.000000</td>\n",
              "      <td>22056.000000</td>\n",
              "      <td>21133.000000</td>\n",
              "    </tr>\n",
              "    <tr>\n",
              "      <th>1</th>\n",
              "      <td>79.185826</td>\n",
              "      <td>544.946783</td>\n",
              "      <td>278.645350</td>\n",
              "      <td>2218.842736</td>\n",
              "      <td>3225.914790</td>\n",
              "      <td>922.996331</td>\n",
              "      <td>4726.696146</td>\n",
              "      <td>2027.460344</td>\n",
              "      <td>4410.247004</td>\n",
              "      <td>1638.765965</td>\n",
              "      <td>...</td>\n",
              "      <td>4652.376097</td>\n",
              "      <td>856.857305</td>\n",
              "      <td>1217.939736</td>\n",
              "      <td>1833.227901</td>\n",
              "      <td>2074.013234</td>\n",
              "      <td>2025.721792</td>\n",
              "      <td>2787.945127</td>\n",
              "      <td>2215.290993</td>\n",
              "      <td>228.614892</td>\n",
              "      <td>667.520284</td>\n",
              "    </tr>\n",
              "    <tr>\n",
              "      <th>2</th>\n",
              "      <td>3287.694573</td>\n",
              "      <td>958.403446</td>\n",
              "      <td>3175.921011</td>\n",
              "      <td>1013.594151</td>\n",
              "      <td>1973.446120</td>\n",
              "      <td>2333.585127</td>\n",
              "      <td>3968.323758</td>\n",
              "      <td>2472.223998</td>\n",
              "      <td>3168.277760</td>\n",
              "      <td>3927.800411</td>\n",
              "      <td>...</td>\n",
              "      <td>7098.632737</td>\n",
              "      <td>1102.419673</td>\n",
              "      <td>3302.021357</td>\n",
              "      <td>385.490699</td>\n",
              "      <td>3678.561407</td>\n",
              "      <td>1996.854661</td>\n",
              "      <td>1948.596111</td>\n",
              "      <td>4154.995792</td>\n",
              "      <td>2459.938036</td>\n",
              "      <td>2967.169305</td>\n",
              "    </tr>\n",
              "    <tr>\n",
              "      <th>3</th>\n",
              "      <td>1844.824822</td>\n",
              "      <td>4151.931055</td>\n",
              "      <td>3039.099206</td>\n",
              "      <td>5122.901239</td>\n",
              "      <td>3538.667867</td>\n",
              "      <td>841.275081</td>\n",
              "      <td>4175.884957</td>\n",
              "      <td>2891.608143</td>\n",
              "      <td>2729.591945</td>\n",
              "      <td>3870.717884</td>\n",
              "      <td>...</td>\n",
              "      <td>4221.138526</td>\n",
              "      <td>1846.133927</td>\n",
              "      <td>1779.359331</td>\n",
              "      <td>2154.454024</td>\n",
              "      <td>5095.891941</td>\n",
              "      <td>483.303308</td>\n",
              "      <td>4035.998934</td>\n",
              "      <td>2027.624087</td>\n",
              "      <td>3382.232899</td>\n",
              "      <td>2062.870207</td>\n",
              "    </tr>\n",
              "    <tr>\n",
              "      <th>4</th>\n",
              "      <td>5675.106880</td>\n",
              "      <td>4601.820070</td>\n",
              "      <td>7282.475053</td>\n",
              "      <td>4536.101591</td>\n",
              "      <td>3091.018779</td>\n",
              "      <td>3990.480619</td>\n",
              "      <td>2602.083239</td>\n",
              "      <td>1904.425655</td>\n",
              "      <td>4805.180915</td>\n",
              "      <td>5851.058320</td>\n",
              "      <td>...</td>\n",
              "      <td>5628.783559</td>\n",
              "      <td>1507.011112</td>\n",
              "      <td>6489.071889</td>\n",
              "      <td>4366.985241</td>\n",
              "      <td>5779.414442</td>\n",
              "      <td>2620.998857</td>\n",
              "      <td>2966.114984</td>\n",
              "      <td>1734.780234</td>\n",
              "      <td>2906.864781</td>\n",
              "      <td>3213.234204</td>\n",
              "    </tr>\n",
              "    <tr>\n",
              "      <th>...</th>\n",
              "      <td>...</td>\n",
              "      <td>...</td>\n",
              "      <td>...</td>\n",
              "      <td>...</td>\n",
              "      <td>...</td>\n",
              "      <td>...</td>\n",
              "      <td>...</td>\n",
              "      <td>...</td>\n",
              "      <td>...</td>\n",
              "      <td>...</td>\n",
              "      <td>...</td>\n",
              "      <td>...</td>\n",
              "      <td>...</td>\n",
              "      <td>...</td>\n",
              "      <td>...</td>\n",
              "      <td>...</td>\n",
              "      <td>...</td>\n",
              "      <td>...</td>\n",
              "      <td>...</td>\n",
              "      <td>...</td>\n",
              "      <td>...</td>\n",
              "    </tr>\n",
              "    <tr>\n",
              "      <th>41996</th>\n",
              "      <td>5675.106880</td>\n",
              "      <td>4601.820070</td>\n",
              "      <td>7282.475053</td>\n",
              "      <td>4536.101591</td>\n",
              "      <td>3091.018779</td>\n",
              "      <td>3990.480619</td>\n",
              "      <td>2602.083239</td>\n",
              "      <td>1904.425655</td>\n",
              "      <td>4805.180915</td>\n",
              "      <td>5851.058320</td>\n",
              "      <td>...</td>\n",
              "      <td>5628.783559</td>\n",
              "      <td>1507.011112</td>\n",
              "      <td>6489.071889</td>\n",
              "      <td>4366.985241</td>\n",
              "      <td>5779.414442</td>\n",
              "      <td>2620.998857</td>\n",
              "      <td>2966.114984</td>\n",
              "      <td>1734.780234</td>\n",
              "      <td>2906.864781</td>\n",
              "      <td>3213.234204</td>\n",
              "    </tr>\n",
              "    <tr>\n",
              "      <th>41997</th>\n",
              "      <td>1844.824822</td>\n",
              "      <td>4151.931055</td>\n",
              "      <td>3039.099206</td>\n",
              "      <td>5122.901239</td>\n",
              "      <td>3538.667867</td>\n",
              "      <td>841.275081</td>\n",
              "      <td>4175.884957</td>\n",
              "      <td>2891.608143</td>\n",
              "      <td>2729.591945</td>\n",
              "      <td>3870.717884</td>\n",
              "      <td>...</td>\n",
              "      <td>4221.138526</td>\n",
              "      <td>1846.133927</td>\n",
              "      <td>1779.359331</td>\n",
              "      <td>2154.454024</td>\n",
              "      <td>5095.891941</td>\n",
              "      <td>483.303308</td>\n",
              "      <td>4035.998934</td>\n",
              "      <td>2027.624087</td>\n",
              "      <td>3382.232899</td>\n",
              "      <td>2062.870207</td>\n",
              "    </tr>\n",
              "    <tr>\n",
              "      <th>41998</th>\n",
              "      <td>3287.694573</td>\n",
              "      <td>958.403446</td>\n",
              "      <td>3175.921011</td>\n",
              "      <td>1013.594151</td>\n",
              "      <td>1973.446120</td>\n",
              "      <td>2333.585127</td>\n",
              "      <td>3968.323758</td>\n",
              "      <td>2472.223998</td>\n",
              "      <td>3168.277760</td>\n",
              "      <td>3927.800411</td>\n",
              "      <td>...</td>\n",
              "      <td>7098.632737</td>\n",
              "      <td>1102.419673</td>\n",
              "      <td>3302.021357</td>\n",
              "      <td>385.490699</td>\n",
              "      <td>3678.561407</td>\n",
              "      <td>1996.854661</td>\n",
              "      <td>1948.596111</td>\n",
              "      <td>4154.995792</td>\n",
              "      <td>2459.938036</td>\n",
              "      <td>2967.169305</td>\n",
              "    </tr>\n",
              "    <tr>\n",
              "      <th>41999</th>\n",
              "      <td>79.185826</td>\n",
              "      <td>544.946783</td>\n",
              "      <td>278.645350</td>\n",
              "      <td>2218.842736</td>\n",
              "      <td>3225.914790</td>\n",
              "      <td>922.996331</td>\n",
              "      <td>4726.696146</td>\n",
              "      <td>2027.460344</td>\n",
              "      <td>4410.247004</td>\n",
              "      <td>1638.765965</td>\n",
              "      <td>...</td>\n",
              "      <td>4652.376097</td>\n",
              "      <td>856.857305</td>\n",
              "      <td>1217.939736</td>\n",
              "      <td>1833.227901</td>\n",
              "      <td>2074.013234</td>\n",
              "      <td>2025.721792</td>\n",
              "      <td>2787.945127</td>\n",
              "      <td>2215.290993</td>\n",
              "      <td>228.614892</td>\n",
              "      <td>667.520284</td>\n",
              "    </tr>\n",
              "    <tr>\n",
              "      <th>label</th>\n",
              "      <td>60.000000</td>\n",
              "      <td>60.000000</td>\n",
              "      <td>60.000000</td>\n",
              "      <td>60.000000</td>\n",
              "      <td>60.000000</td>\n",
              "      <td>60.000000</td>\n",
              "      <td>60.000000</td>\n",
              "      <td>60.000000</td>\n",
              "      <td>60.000000</td>\n",
              "      <td>60.000000</td>\n",
              "      <td>...</td>\n",
              "      <td>150.000000</td>\n",
              "      <td>150.000000</td>\n",
              "      <td>150.000000</td>\n",
              "      <td>150.000000</td>\n",
              "      <td>150.000000</td>\n",
              "      <td>150.000000</td>\n",
              "      <td>150.000000</td>\n",
              "      <td>150.000000</td>\n",
              "      <td>150.000000</td>\n",
              "      <td>150.000000</td>\n",
              "    </tr>\n",
              "  </tbody>\n",
              "</table>\n",
              "<p>42001 rows × 1900 columns</p>\n",
              "</div>"
            ],
            "text/plain": [
              "                  0             1             2             3             4  \\\n",
              "0      21991.000000  21733.000000  23587.000000  19524.000000  23075.000000   \n",
              "1         79.185826    544.946783    278.645350   2218.842736   3225.914790   \n",
              "2       3287.694573    958.403446   3175.921011   1013.594151   1973.446120   \n",
              "3       1844.824822   4151.931055   3039.099206   5122.901239   3538.667867   \n",
              "4       5675.106880   4601.820070   7282.475053   4536.101591   3091.018779   \n",
              "...             ...           ...           ...           ...           ...   \n",
              "41996   5675.106880   4601.820070   7282.475053   4536.101591   3091.018779   \n",
              "41997   1844.824822   4151.931055   3039.099206   5122.901239   3538.667867   \n",
              "41998   3287.694573    958.403446   3175.921011   1013.594151   1973.446120   \n",
              "41999     79.185826    544.946783    278.645350   2218.842736   3225.914790   \n",
              "label     60.000000     60.000000     60.000000     60.000000     60.000000   \n",
              "\n",
              "                  5             6             7             8             9  \\\n",
              "0      24558.000000  23559.000000  20983.000000  25130.000000  19994.000000   \n",
              "1        922.996331   4726.696146   2027.460344   4410.247004   1638.765965   \n",
              "2       2333.585127   3968.323758   2472.223998   3168.277760   3927.800411   \n",
              "3        841.275081   4175.884957   2891.608143   2729.591945   3870.717884   \n",
              "4       3990.480619   2602.083239   1904.425655   4805.180915   5851.058320   \n",
              "...             ...           ...           ...           ...           ...   \n",
              "41996   3990.480619   2602.083239   1904.425655   4805.180915   5851.058320   \n",
              "41997    841.275081   4175.884957   2891.608143   2729.591945   3870.717884   \n",
              "41998   2333.585127   3968.323758   2472.223998   3168.277760   3927.800411   \n",
              "41999    922.996331   4726.696146   2027.460344   4410.247004   1638.765965   \n",
              "label     60.000000     60.000000     60.000000     60.000000     60.000000   \n",
              "\n",
              "       ...            90            91            92            93  \\\n",
              "0      ...  17398.000000  19812.000000  22389.000000  20085.000000   \n",
              "1      ...   4652.376097    856.857305   1217.939736   1833.227901   \n",
              "2      ...   7098.632737   1102.419673   3302.021357    385.490699   \n",
              "3      ...   4221.138526   1846.133927   1779.359331   2154.454024   \n",
              "4      ...   5628.783559   1507.011112   6489.071889   4366.985241   \n",
              "...    ...           ...           ...           ...           ...   \n",
              "41996  ...   5628.783559   1507.011112   6489.071889   4366.985241   \n",
              "41997  ...   4221.138526   1846.133927   1779.359331   2154.454024   \n",
              "41998  ...   7098.632737   1102.419673   3302.021357    385.490699   \n",
              "41999  ...   4652.376097    856.857305   1217.939736   1833.227901   \n",
              "label  ...    150.000000    150.000000    150.000000    150.000000   \n",
              "\n",
              "                 94            95            96            97            98  \\\n",
              "0      20131.000000  20667.000000  17946.000000  20490.000000  22056.000000   \n",
              "1       2074.013234   2025.721792   2787.945127   2215.290993    228.614892   \n",
              "2       3678.561407   1996.854661   1948.596111   4154.995792   2459.938036   \n",
              "3       5095.891941    483.303308   4035.998934   2027.624087   3382.232899   \n",
              "4       5779.414442   2620.998857   2966.114984   1734.780234   2906.864781   \n",
              "...             ...           ...           ...           ...           ...   \n",
              "41996   5779.414442   2620.998857   2966.114984   1734.780234   2906.864781   \n",
              "41997   5095.891941    483.303308   4035.998934   2027.624087   3382.232899   \n",
              "41998   3678.561407   1996.854661   1948.596111   4154.995792   2459.938036   \n",
              "41999   2074.013234   2025.721792   2787.945127   2215.290993    228.614892   \n",
              "label    150.000000    150.000000    150.000000    150.000000    150.000000   \n",
              "\n",
              "                 99  \n",
              "0      21133.000000  \n",
              "1        667.520284  \n",
              "2       2967.169305  \n",
              "3       2062.870207  \n",
              "4       3213.234204  \n",
              "...             ...  \n",
              "41996   3213.234204  \n",
              "41997   2062.870207  \n",
              "41998   2967.169305  \n",
              "41999    667.520284  \n",
              "label    150.000000  \n",
              "\n",
              "[42001 rows x 1900 columns]"
            ]
          },
          "execution_count": 30,
          "metadata": {},
          "output_type": "execute_result"
        }
      ],
      "source": [
        "df_all"
      ]
    },
    {
      "cell_type": "code",
      "execution_count": 40,
      "metadata": {
        "id": "r-cP5AwNdbzJ"
      },
      "outputs": [],
      "source": [
        "from sklearn.model_selection import train_test_split,cross_val_score\n",
        "from sklearn.preprocessing import StandardScaler\n",
        "from sklearn.neighbors import KNeighborsClassifier\n",
        "from sklearn import svm\n",
        "from sklearn.metrics import accuracy_score, classification_report\n",
        "from sklearn.decomposition import KernelPCA\n",
        "from sklearn.neural_network import MLPClassifier\n",
        "from sklearn import datasets, linear_model\n",
        "from sklearn.ensemble import GradientBoostingRegressor\n",
        "from sklearn.metrics import  r2_score,root_mean_squared_error,mean_absolute_error"
      ]
    },
    {
      "cell_type": "code",
      "execution_count": 41,
      "metadata": {
        "id": "EDOAGoCFdcyy"
      },
      "outputs": [],
      "source": [
        "df = df_all.T\n",
        "X=df.drop(\"label\",axis=1)\n",
        "y=df[\"label\"]"
      ]
    },
    {
      "cell_type": "code",
      "execution_count": 42,
      "metadata": {},
      "outputs": [],
      "source": [
        "X_train, X_test, y_train, y_test = train_test_split(X, y, test_size=0.1, random_state=32)"
      ]
    },
    {
      "cell_type": "code",
      "execution_count": 23,
      "metadata": {
        "id": "oiDRlijpd6vg"
      },
      "outputs": [
        {
          "name": "stdout",
          "output_type": "stream",
          "text": [
            "RMSE 6.377242331399069\n"
          ]
        }
      ],
      "source": [
        "X_train, X_test, y_train, y_test = train_test_split(X, y, test_size=0.1, random_state=32)\n",
        "\n",
        "# Create linear regression object\n",
        "regr =GradientBoostingRegressor(random_state=0)\n",
        "# regr = svm.SVR()\n",
        "\n",
        "# Train the model using the training sets\n",
        "regr.fit(X_train, y_train)\n",
        "\n",
        "# Make predictions using the testing set\n",
        "y_pred = regr.predict(X_test)\n",
        "\n",
        "\n",
        "print(\"RMSE\",root_mean_squared_error(y_test,y_pred))\n"
      ]
    },
    {
      "cell_type": "markdown",
      "metadata": {},
      "source": []
    },
    {
      "cell_type": "code",
      "execution_count": 24,
      "metadata": {},
      "outputs": [
        {
          "name": "stdout",
          "output_type": "stream",
          "text": [
            "RMSE 6.377242331399069\n",
            "MAE 1.5631517345864512\n",
            "R2 score 0.9846557871827257\n"
          ]
        }
      ],
      "source": [
        "print(\"RMSE\",root_mean_squared_error(y_test,y_pred))\n",
        "print(\"MAE\",mean_absolute_error(y_test,y_pred))\n",
        "r2 = r2_score(y_test,y_pred)\n",
        "print(\"R2 score\",r2)"
      ]
    },
    {
      "cell_type": "code",
      "execution_count": 25,
      "metadata": {},
      "outputs": [],
      "source": [
        "import pickle \n",
        "pickle.dump(regr, open(\"regression_in_cylinser2_10_23_after_fft\", 'wb')) "
      ]
    },
    {
      "cell_type": "code",
      "execution_count": 45,
      "metadata": {},
      "outputs": [
        {
          "name": "stdout",
          "output_type": "stream",
          "text": [
            "Score:  0.9968496246624076\n"
          ]
        }
      ],
      "source": [
        "my_model_clf = pickle.load(open(\"regression_in_cylinser2_10_23_after_fft\", 'rb')) \n",
        "result_score = my_model_clf.score(X_test,y_test) \n",
        "print(\"Score: \",result_score)\n",
        "y_pred = my_model_clf.predict(X_test)"
      ]
    },
    {
      "cell_type": "code",
      "execution_count": 46,
      "metadata": {},
      "outputs": [
        {
          "data": {
            "image/png": "[encoded data removed]",
            "text/plain": [
              "<Figure size 800x600 with 1 Axes>"
            ]
          },
          "metadata": {},
          "output_type": "display_data"
        }
      ],
      "source": [
        "plt.figure(figsize=(8, 6))\n",
        "plt.scatter(y_test, y_pred, label=f'Imp. (RMSE={root_mean_squared_error(y_test,y_pred):.1f})', color='blue', marker='o')\n",
        "\n",
        "\n",
        "# Plot the line of perfect prediction\n",
        "plt.plot(y_test, y_test, color='black', linestyle='-', linewidth=1)\n",
        "\n",
        "# Labels and title\n",
        "plt.xlabel('True angle (degree)', fontsize=14)\n",
        "plt.ylabel('Predicted angle (degree)', fontsize=14)\n",
        "plt.legend(loc='upper left')\n",
        "plt.title('Comparison of Model Predictions')\n",
        "\n",
        "# Display the plot\n",
        "plt.show()"
      ]
    },
    {
      "cell_type": "code",
      "execution_count": 28,
      "metadata": {
        "colab": {
          "base_uri": "https://localhost:8080/"
        },
        "id": "1EoohHXl_wNn",
        "outputId": "5e73716e-0ef1-4aa6-cc2b-8386b795a9ac"
      },
      "outputs": [
        {
          "data": {
            "text/plain": [
              "(1900, 42000)"
            ]
          },
          "execution_count": 28,
          "metadata": {},
          "output_type": "execute_result"
        }
      ],
      "source": [
        "X.shape"
      ]
    },
    {
      "cell_type": "code",
      "execution_count": 27,
      "metadata": {
        "colab": {
          "base_uri": "https://localhost:8080/"
        },
        "id": "iuNqKdVOq6dF",
        "outputId": "0172dee9-b7e7-44b2-bd75-0fbca5a3fad6"
      },
      "outputs": [
        {
          "data": {
            "text/plain": [
              "(1710, 42000)"
            ]
          },
          "execution_count": 27,
          "metadata": {},
          "output_type": "execute_result"
        }
      ],
      "source": [
        "X_train.shape"
      ]
    },
    {
      "cell_type": "code",
      "execution_count": 29,
      "metadata": {},
      "outputs": [
        {
          "data": {
            "text/plain": [
              "(190, 42000)"
            ]
          },
          "execution_count": 29,
          "metadata": {},
          "output_type": "execute_result"
        }
      ],
      "source": [
        "X_test.shape"
      ]
    }
  ],
  "metadata": {
    "colab": {
      "provenance": []
    },
    "kernelspec": {
      "display_name": "Python 3",
      "name": "python3"
    },
    "language_info": {
      "codemirror_mode": {
        "name": "ipython",
        "version": 3
      },
      "file_extension": ".py",
      "mimetype": "text/x-python",
      "name": "python",
      "nbconvert_exporter": "python",
      "pygments_lexer": "ipython3",
      "version": "3.12.2"
    }
  },
  "nbformat": 4,
  "nbformat_minor": 0
}
